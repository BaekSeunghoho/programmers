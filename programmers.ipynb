{
 "cells": [
  {
   "cell_type": "code",
   "execution_count": null,
   "metadata": {},
   "outputs": [],
   "source": [
    "#문제 설명 최댓값과 최솟값\n",
    "# 문자열 s에는 공백으로 구분된 숫자들이 저장되어 있습니다. str에 나타나는 숫자 중 최소값과 최대값을 찾아 이를 \"(최소값) (최대값)\"형태의 문자열을 반환하는 함수, solution을 완성하세요.\n",
    "# 예를들어 s가 \"1 2 3 4\"라면 \"1 4\"를 리턴하고, \"-1 -2 -3 -4\"라면 \"-4 -1\"을 리턴하면 됩니다.\n",
    "\n",
    "# 제한 조건\n",
    "# s에는 둘 이상의 정수가 공백으로 구분되어 있습니다.\n",
    "# 입출력 예\n",
    "# s\treturn\n",
    "# \"1 2 3 4\"\t\"1 4\"\n",
    "# \"-1 -2 -3 -4\"\t\"-4 -1\"\n",
    "# \"-1 -1\"\t\"-1 -1\""
   ]
  },
  {
   "cell_type": "code",
   "execution_count": 11,
   "metadata": {},
   "outputs": [
    {
     "data": {
      "text/plain": [
       "'0 3'"
      ]
     },
     "execution_count": 11,
     "metadata": {},
     "output_type": "execute_result"
    }
   ],
   "source": [
    "def solution(s):\n",
    "    num_list = list(map(int, s.split()))\n",
    "\n",
    "    min_val = min(num_list)\n",
    "    max_val = max(num_list)\n",
    "\n",
    "    return f\"{min_val} {max_val}\"\n",
    "\n",
    "s = \"0 1 3 2\"\n",
    "solution(s)"
   ]
  },
  {
   "cell_type": "code",
   "execution_count": null,
   "metadata": {},
   "outputs": [],
   "source": [
    "# 문제 설명 \n",
    "# JadenCase란 모든 단어의 첫 문자가 대문자이고, 그 외의 알파벳은 소문자인 문자열입니다. 단, 첫 문자가 알파벳이 아닐 때에는 이어지는 알파벳은 소문자로 쓰면 됩니다. (첫 번째 입출력 예 참고)\n",
    "# 문자열 s가 주어졌을 때, s를 JadenCase로 바꾼 문자열을 리턴하는 함수, solution을 완성해주세요.\n",
    "\n",
    "# 제한 조건\n",
    "# s는 길이 1 이상 200 이하인 문자열입니다.\n",
    "# s는 알파벳과 숫자, 공백문자(\" \")로 이루어져 있습니다.\n",
    "# 숫자는 단어의 첫 문자로만 나옵니다.\n",
    "# 숫자로만 이루어진 단어는 없습니다.\n",
    "# 공백문자가 연속해서 나올 수 있습니다."
   ]
  },
  {
   "cell_type": "code",
   "execution_count": 13,
   "metadata": {},
   "outputs": [
    {
     "data": {
      "text/plain": [
       "'3people Unfollowed Me'"
      ]
     },
     "execution_count": 13,
     "metadata": {},
     "output_type": "execute_result"
    }
   ],
   "source": [
    "def solution(s):    \n",
    "    a = ' '.join([word.capitalize() for word in s.split(' ')])\n",
    "    return a\n",
    "\n",
    "s = \"3people unFollowed me\"\n",
    "solution(s)"
   ]
  },
  {
   "cell_type": "code",
   "execution_count": null,
   "metadata": {},
   "outputs": [],
   "source": [
    "# 문제 설명\n",
    "# 길이가 같은 배열 A, B 두개가 있습니다. 각 배열은 자연수로 이루어져 있습니다.\n",
    "# 배열 A, B에서 각각 한 개의 숫자를 뽑아 두 수를 곱합니다. 이러한 과정을 배열의 길이만큼 반복하며, 두 수를 곱한 값을 누적하여 더합니다. 이때 최종적으로 누적된 값이 최소가 되도록 만드는 것이 목표입니다. (단, 각 배열에서 k번째 숫자를 뽑았다면 다음에 k번째 숫자는 다시 뽑을 수 없습니다.)\n",
    "\n",
    "# 예를 들어 A = [1, 4, 2] , B = [5, 4, 4] 라면\n",
    "\n",
    "# A에서 첫번째 숫자인 1, B에서 첫번째 숫자인 5를 뽑아 곱하여 더합니다. (누적된 값 : 0 + 5(1x5) = 5)\n",
    "# A에서 두번째 숫자인 4, B에서 세번째 숫자인 4를 뽑아 곱하여 더합니다. (누적된 값 : 5 + 16(4x4) = 21)\n",
    "# A에서 세번째 숫자인 2, B에서 두번째 숫자인 4를 뽑아 곱하여 더합니다. (누적된 값 : 21 + 8(2x4) = 29)\n",
    "# 즉, 이 경우가 최소가 되므로 29를 return 합니다.\n",
    "\n",
    "# 배열 A, B가 주어질 때 최종적으로 누적된 최솟값을 return 하는 solution 함수를 완성해 주세요.\n",
    "\n",
    "# 제한사항\n",
    "# 배열 A, B의 크기 : 1,000 이하의 자연수\n",
    "# 배열 A, B의 원소의 크기 : 1,000 이하의 자연수"
   ]
  },
  {
   "cell_type": "code",
   "execution_count": 14,
   "metadata": {},
   "outputs": [
    {
     "data": {
      "text/plain": [
       "29"
      ]
     },
     "execution_count": 14,
     "metadata": {},
     "output_type": "execute_result"
    }
   ],
   "source": [
    "A = [1, 4, 2]\n",
    "B = [5, 4, 4]\n",
    "def solution(A, B):\n",
    "    A.sort()\n",
    "    B.sort(reverse=True)\n",
    "    \n",
    "    return sum(a*b for a, b in zip(A, B))\n",
    "solution(A,B)"
   ]
  },
  {
   "cell_type": "code",
   "execution_count": null,
   "metadata": {},
   "outputs": [],
   "source": [
    "# 문제 설명\n",
    "# 괄호가 바르게 짝지어졌다는 것은 '(' 문자로 열렸으면 반드시 짝지어서 ')' 문자로 닫혀야 한다는 뜻입니다. 예를 들어\n",
    "\n",
    "# \"()()\" 또는 \"(())()\" 는 올바른 괄호입니다.\n",
    "# \")()(\" 또는 \"(()(\" 는 올바르지 않은 괄호입니다.\n",
    "# '(' 또는 ')' 로만 이루어진 문자열 s가 주어졌을 때, 문자열 s가 올바른 괄호이면 true를 return 하고, 올바르지 않은 괄호이면 false를 return 하는 solution 함수를 완성해 주세요.\n",
    "\n",
    "# 제한사항\n",
    "# 문자열 s의 길이 : 100,000 이하의 자연수\n",
    "# 문자열 s는 '(' 또는 ')' 로만 이루어져 있습니다."
   ]
  },
  {
   "cell_type": "code",
   "execution_count": 39,
   "metadata": {},
   "outputs": [
    {
     "data": {
      "text/plain": [
       "False"
      ]
     },
     "execution_count": 39,
     "metadata": {},
     "output_type": "execute_result"
    }
   ],
   "source": [
    "def solution(s):\n",
    "    stack = []\n",
    "    \n",
    "    for char in s:\n",
    "        if char == '(':\n",
    "            stack.append(char)\n",
    "        else:\n",
    "            if not stack:\n",
    "                return False\n",
    "            stack.pop()\n",
    "    return not stack\n",
    "\n",
    "a = \"()()\"\n",
    "b = \")()(\"\n",
    "solution(b)\n"
   ]
  },
  {
   "cell_type": "code",
   "execution_count": null,
   "metadata": {},
   "outputs": [],
   "source": [
    "# 문제 설명\n",
    "# 0과 1로 이루어진 어떤 문자열 x에 대한 이진 변환을 다음과 같이 정의합니다.\n",
    "\n",
    "# x의 모든 0을 제거합니다.\n",
    "# x의 길이를 c라고 하면, x를 \"c를 2진법으로 표현한 문자열\"로 바꿉니다.\n",
    "# 예를 들어, x = \"0111010\"이라면, x에 이진 변환을 가하면 x = \"0111010\" -> \"1111\" -> \"100\" 이 됩니다.\n",
    "\n",
    "# 0과 1로 이루어진 문자열 s가 매개변수로 주어집니다. s가 \"1\"이 될 때까지 계속해서 s에 이진 변환을 가했을 때, 이진 변환의 횟수와 변환 과정에서 제거된 모든 0의 개수를 각각 배열에 담아 return 하도록 solution 함수를 완성해주세요."
   ]
  },
  {
   "cell_type": "code",
   "execution_count": 42,
   "metadata": {},
   "outputs": [
    {
     "data": {
      "text/plain": [
       "[4, 1]"
      ]
     },
     "execution_count": 42,
     "metadata": {},
     "output_type": "execute_result"
    }
   ],
   "source": [
    "def solution(s):\n",
    "    # 이진 변환 횟수와 제거된 0의 총 개수를 저장할 변수 초기화\n",
    "    transform_count = 0\n",
    "    removed_zeros = 0\n",
    "\n",
    "    while s != \"1\":\n",
    "        # 현재 문자열에서 0의 개수를 세고 제거\n",
    "        count_zeros = s.count('0')\n",
    "        removed_zeros += count_zeros\n",
    "        s = s.replace('0', '')\n",
    "\n",
    "        # 남은 문자열의 길이를 2진수로 변환\n",
    "        s = bin(len(s))[2:]\n",
    "        transform_count += 1\n",
    "\n",
    "    return [transform_count, removed_zeros]\n",
    "a = \"110010101001\"\n",
    "b=\"1111111\"\n",
    "solution(b)"
   ]
  }
 ],
 "metadata": {
  "kernelspec": {
   "display_name": "ml-dev",
   "language": "python",
   "name": "python3"
  },
  "language_info": {
   "codemirror_mode": {
    "name": "ipython",
    "version": 3
   },
   "file_extension": ".py",
   "mimetype": "text/x-python",
   "name": "python",
   "nbconvert_exporter": "python",
   "pygments_lexer": "ipython3",
   "version": "3.10.13"
  }
 },
 "nbformat": 4,
 "nbformat_minor": 2
}
