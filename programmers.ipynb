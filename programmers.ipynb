{
 "cells": [
  {
   "cell_type": "code",
   "execution_count": null,
   "metadata": {},
   "outputs": [],
   "source": [
    "# 문제 설명 최댓값과 최솟값\n",
    "# 문자열 s에는 공백으로 구분된 숫자들이 저장되어 있습니다. str에 나타나는 숫자 중 최소값과 최대값을 찾아 이를 \"(최소값) (최대값)\"형태의 문자열을 반환하는 함수, solution을 완성하세요.\n",
    "# 예를들어 s가 \"1 2 3 4\"라면 \"1 4\"를 리턴하고, \"-1 -2 -3 -4\"라면 \"-4 -1\"을 리턴하면 됩니다.\n",
    "\n",
    "# 제한 조건\n",
    "# s에는 둘 이상의 정수가 공백으로 구분되어 있습니다.\n",
    "# 입출력 예\n",
    "# s\treturn\n",
    "# \"1 2 3 4\"\t\"1 4\"\n",
    "# \"-1 -2 -3 -4\"\t\"-4 -1\"\n",
    "# \"-1 -1\"\t\"-1 -1\""
   ]
  },
  {
   "cell_type": "code",
   "execution_count": 11,
   "metadata": {},
   "outputs": [
    {
     "data": {
      "text/plain": [
       "'0 3'"
      ]
     },
     "execution_count": 11,
     "metadata": {},
     "output_type": "execute_result"
    }
   ],
   "source": [
    "def solution(s):\n",
    "    num_list = list(map(int, s.split()))\n",
    "\n",
    "    min_val = min(num_list)\n",
    "    max_val = max(num_list)\n",
    "\n",
    "    return f\"{min_val} {max_val}\"\n",
    "\n",
    "s = \"0 1 3 2\"\n",
    "solution(s)"
   ]
  },
  {
   "cell_type": "code",
   "execution_count": null,
   "metadata": {},
   "outputs": [],
   "source": [
    "# 문제 설명 \n",
    "# JadenCase란 모든 단어의 첫 문자가 대문자이고, 그 외의 알파벳은 소문자인 문자열입니다. 단, 첫 문자가 알파벳이 아닐 때에는 이어지는 알파벳은 소문자로 쓰면 됩니다. (첫 번째 입출력 예 참고)\n",
    "# 문자열 s가 주어졌을 때, s를 JadenCase로 바꾼 문자열을 리턴하는 함수, solution을 완성해주세요.\n",
    "\n",
    "# 제한 조건\n",
    "# s는 길이 1 이상 200 이하인 문자열입니다.\n",
    "# s는 알파벳과 숫자, 공백문자(\" \")로 이루어져 있습니다.\n",
    "# 숫자는 단어의 첫 문자로만 나옵니다.\n",
    "# 숫자로만 이루어진 단어는 없습니다.\n",
    "# 공백문자가 연속해서 나올 수 있습니다."
   ]
  },
  {
   "cell_type": "code",
   "execution_count": 13,
   "metadata": {},
   "outputs": [
    {
     "data": {
      "text/plain": [
       "'3people Unfollowed Me'"
      ]
     },
     "execution_count": 13,
     "metadata": {},
     "output_type": "execute_result"
    }
   ],
   "source": [
    "def solution(s):    \n",
    "    a = ' '.join([word.capitalize() for word in s.split(' ')])\n",
    "    return a\n",
    "\n",
    "s = \"3people unFollowed me\"\n",
    "solution(s)"
   ]
  },
  {
   "cell_type": "code",
   "execution_count": null,
   "metadata": {},
   "outputs": [],
   "source": [
    "# 문제 설명\n",
    "# 길이가 같은 배열 A, B 두개가 있습니다. 각 배열은 자연수로 이루어져 있습니다.\n",
    "# 배열 A, B에서 각각 한 개의 숫자를 뽑아 두 수를 곱합니다. 이러한 과정을 배열의 길이만큼 반복하며, 두 수를 곱한 값을 누적하여 더합니다. 이때 최종적으로 누적된 값이 최소가 되도록 만드는 것이 목표입니다. (단, 각 배열에서 k번째 숫자를 뽑았다면 다음에 k번째 숫자는 다시 뽑을 수 없습니다.)\n",
    "\n",
    "# 예를 들어 A = [1, 4, 2] , B = [5, 4, 4] 라면\n",
    "\n",
    "# A에서 첫번째 숫자인 1, B에서 첫번째 숫자인 5를 뽑아 곱하여 더합니다. (누적된 값 : 0 + 5(1x5) = 5)\n",
    "# A에서 두번째 숫자인 4, B에서 세번째 숫자인 4를 뽑아 곱하여 더합니다. (누적된 값 : 5 + 16(4x4) = 21)\n",
    "# A에서 세번째 숫자인 2, B에서 두번째 숫자인 4를 뽑아 곱하여 더합니다. (누적된 값 : 21 + 8(2x4) = 29)\n",
    "# 즉, 이 경우가 최소가 되므로 29를 return 합니다.\n",
    "\n",
    "# 배열 A, B가 주어질 때 최종적으로 누적된 최솟값을 return 하는 solution 함수를 완성해 주세요.\n",
    "\n",
    "# 제한사항\n",
    "# 배열 A, B의 크기 : 1,000 이하의 자연수\n",
    "# 배열 A, B의 원소의 크기 : 1,000 이하의 자연수"
   ]
  },
  {
   "cell_type": "code",
   "execution_count": 14,
   "metadata": {},
   "outputs": [
    {
     "data": {
      "text/plain": [
       "29"
      ]
     },
     "execution_count": 14,
     "metadata": {},
     "output_type": "execute_result"
    }
   ],
   "source": [
    "A = [1, 4, 2]\n",
    "B = [5, 4, 4]\n",
    "def solution(A, B):\n",
    "    A.sort()\n",
    "    B.sort(reverse=True)\n",
    "    \n",
    "    return sum(a*b for a, b in zip(A, B))\n",
    "solution(A,B)"
   ]
  },
  {
   "cell_type": "code",
   "execution_count": null,
   "metadata": {},
   "outputs": [],
   "source": [
    "# 문제 설명\n",
    "# 괄호가 바르게 짝지어졌다는 것은 '(' 문자로 열렸으면 반드시 짝지어서 ')' 문자로 닫혀야 한다는 뜻입니다. 예를 들어\n",
    "\n",
    "# \"()()\" 또는 \"(())()\" 는 올바른 괄호입니다.\n",
    "# \")()(\" 또는 \"(()(\" 는 올바르지 않은 괄호입니다.\n",
    "# '(' 또는 ')' 로만 이루어진 문자열 s가 주어졌을 때, 문자열 s가 올바른 괄호이면 true를 return 하고, 올바르지 않은 괄호이면 false를 return 하는 solution 함수를 완성해 주세요.\n",
    "\n",
    "# 제한사항\n",
    "# 문자열 s의 길이 : 100,000 이하의 자연수\n",
    "# 문자열 s는 '(' 또는 ')' 로만 이루어져 있습니다."
   ]
  },
  {
   "cell_type": "code",
   "execution_count": 39,
   "metadata": {},
   "outputs": [
    {
     "data": {
      "text/plain": [
       "False"
      ]
     },
     "execution_count": 39,
     "metadata": {},
     "output_type": "execute_result"
    }
   ],
   "source": [
    "def solution(s):\n",
    "    stack = []\n",
    "    \n",
    "    for char in s:\n",
    "        if char == '(':\n",
    "            stack.append(char)\n",
    "        else:\n",
    "            if not stack:\n",
    "                return False\n",
    "            stack.pop()\n",
    "    return not stack\n",
    "\n",
    "a = \"()()\"\n",
    "b = \")()(\"\n",
    "solution(b)\n"
   ]
  },
  {
   "cell_type": "code",
   "execution_count": null,
   "metadata": {},
   "outputs": [],
   "source": [
    "# 문제 설명\n",
    "# 0과 1로 이루어진 어떤 문자열 x에 대한 이진 변환을 다음과 같이 정의합니다.\n",
    "\n",
    "# x의 모든 0을 제거합니다.\n",
    "# x의 길이를 c라고 하면, x를 \"c를 2진법으로 표현한 문자열\"로 바꿉니다.\n",
    "# 예를 들어, x = \"0111010\"이라면, x에 이진 변환을 가하면 x = \"0111010\" -> \"1111\" -> \"100\" 이 됩니다.\n",
    "\n",
    "# 0과 1로 이루어진 문자열 s가 매개변수로 주어집니다. s가 \"1\"이 될 때까지 계속해서 s에 이진 변환을 가했을 때, 이진 변환의 횟수와 변환 과정에서 제거된 모든 0의 개수를 각각 배열에 담아 return 하도록 solution 함수를 완성해주세요."
   ]
  },
  {
   "cell_type": "code",
   "execution_count": 42,
   "metadata": {},
   "outputs": [
    {
     "data": {
      "text/plain": [
       "[4, 1]"
      ]
     },
     "execution_count": 42,
     "metadata": {},
     "output_type": "execute_result"
    }
   ],
   "source": [
    "def solution(s):\n",
    "    # 이진 변환 횟수와 제거된 0의 총 개수를 저장할 변수 초기화\n",
    "    transform_count = 0\n",
    "    removed_zeros = 0\n",
    "\n",
    "    while s != \"1\":\n",
    "        # 현재 문자열에서 0의 개수를 세고 제거\n",
    "        count_zeros = s.count('0')\n",
    "        removed_zeros += count_zeros\n",
    "        s = s.replace('0', '')\n",
    "\n",
    "        # 남은 문자열의 길이를 2진수로 변환\n",
    "        s = bin(len(s))[2:]\n",
    "        transform_count += 1\n",
    "\n",
    "    return [transform_count, removed_zeros]\n",
    "a = \"110010101001\"\n",
    "b=\"1111111\"\n",
    "solution(b)"
   ]
  },
  {
   "cell_type": "code",
   "execution_count": null,
   "metadata": {},
   "outputs": [],
   "source": [
    "# 24/3/30 문제 설명\n",
    "# Finn은 요즘 수학공부에 빠져 있습니다. 수학 공부를 하던 Finn은 자연수 n을 연속한 자연수들로 표현 하는 방법이 여러개라는 사실을 알게 되었습니다. 예를들어 15는 다음과 같이 4가지로 표현 할 수 있습니다.\n",
    "\n",
    "# 1 + 2 + 3 + 4 + 5 = 15\n",
    "# 4 + 5 + 6 = 15\n",
    "# 7 + 8 = 15\n",
    "# 15 = 15\n",
    "# 자연수 n이 매개변수로 주어질 때, 연속된 자연수들로 n을 표현하는 방법의 수를 return하는 solution를 완성해주세요.\n",
    "\n",
    "# 제한사항\n",
    "# n은 10,000 이하의 자연수 입니다."
   ]
  },
  {
   "cell_type": "code",
   "execution_count": 6,
   "metadata": {},
   "outputs": [
    {
     "data": {
      "text/plain": [
       "4"
      ]
     },
     "execution_count": 6,
     "metadata": {},
     "output_type": "execute_result"
    }
   ],
   "source": [
    "# def solution(n):\n",
    "#     cnt = 0\n",
    "#     for k in range(1,n+1) :\n",
    "#         if (n - k*(k-1)//2) % k == 0 and (n - k*(k-1)//2) // k > 0:\n",
    "#             cnt += 1\n",
    "#     return cnt\n",
    "\n",
    "\n",
    "def expressions(num):\n",
    "    answer = 0\n",
    "    for i in range(1, num+1):\n",
    "        summ = 0\n",
    "        while (summ < num):\n",
    "            summ += i\n",
    "            i += 1\n",
    "        if summ == num:\n",
    "            answer += 1\n",
    "    return answer\n",
    "expressions(15)"
   ]
  },
  {
   "cell_type": "code",
   "execution_count": null,
   "metadata": {},
   "outputs": [],
   "source": [
    "# 문제 설명24/3/30\n",
    "# 자연수 n이 주어졌을 때, n의 다음 큰 숫자는 다음과 같이 정의 합니다.\n",
    "\n",
    "# 조건 1. n의 다음 큰 숫자는 n보다 큰 자연수 입니다.\n",
    "# 조건 2. n의 다음 큰 숫자와 n은 2진수로 변환했을 때 1의 갯수가 같습니다.\n",
    "# 조건 3. n의 다음 큰 숫자는 조건 1, 2를 만족하는 수 중 가장 작은 수 입니다.\n",
    "# 예를 들어서 78(1001110)의 다음 큰 숫자는 83(1010011)입니다.\n",
    "\n",
    "# 자연수 n이 매개변수로 주어질 때, n의 다음 큰 숫자를 return 하는 solution 함수를 완성해주세요.\n",
    "\n",
    "# 제한 사항\n",
    "# n은 1,000,000 이하의 자연수 입니다."
   ]
  },
  {
   "cell_type": "code",
   "execution_count": 19,
   "metadata": {},
   "outputs": [
    {
     "data": {
      "text/plain": [
       "23"
      ]
     },
     "execution_count": 19,
     "metadata": {},
     "output_type": "execute_result"
    }
   ],
   "source": [
    "def solution(n):\n",
    "    answer = 0\n",
    "    a = bin(n).count('1')\n",
    "    answer = n+1 \n",
    "    while bin(answer).count('1') != a :\n",
    "        answer += 1\n",
    "    return answer \n",
    "solution(15)\n"
   ]
  },
  {
   "cell_type": "code",
   "execution_count": null,
   "metadata": {},
   "outputs": [],
   "source": [
    "# 24/3/30 Leo는 카펫을 사러 갔다가 아래 그림과 같이 중앙에는 노란색으로 칠해져 있고 테두리 1줄은 갈색으로 칠해져 있는 격자 모양 카펫을 봤습니다.\n",
    "\n",
    "# carpet.png\n",
    "\n",
    "# Leo는 집으로 돌아와서 아까 본 카펫의 노란색과 갈색으로 색칠된 격자의 개수는 기억했지만, 전체 카펫의 크기는 기억하지 못했습니다.\n",
    "\n",
    "# Leo가 본 카펫에서 갈색 격자의 수 brown, 노란색 격자의 수 yellow가 매개변수로 주어질 때 카펫의 가로, 세로 크기를 순서대로 배열에 담아 return 하도록 solution 함수를 작성해주세요.\n",
    "\n",
    "# 제한사항\n",
    "# 갈색 격자의 수 brown은 8 이상 5,000 이하인 자연수입니다.\n",
    "# 노란색 격자의 수 yellow는 1 이상 2,000,000 이하인 자연수입니다.\n",
    "# 카펫의 가로 길이는 세로 길이와 같거나, 세로 길이보다 깁니다."
   ]
  },
  {
   "cell_type": "code",
   "execution_count": 20,
   "metadata": {},
   "outputs": [
    {
     "data": {
      "text/plain": [
       "[4, 3]"
      ]
     },
     "execution_count": 20,
     "metadata": {},
     "output_type": "execute_result"
    }
   ],
   "source": [
    "def solution(brown, yellow):\n",
    "\n",
    "    total = brown + yellow\n",
    "    \n",
    "    for y in range(3, (brown // 2) + 1):\n",
    "        if (brown + 4 - 2*y) % 2 == 0:\n",
    "            x = (brown + 4 - 2*y) // 2\n",
    "            if x * y == total:\n",
    "                return [x, y]\n",
    "solution(10,2)"
   ]
  },
  {
   "cell_type": "code",
   "execution_count": null,
   "metadata": {},
   "outputs": [],
   "source": [
    "# 24/3/30\n",
    "# OO 연구소는 한 번에 K 칸을 앞으로 점프하거나, (현재까지 온 거리) x 2 에 해당하는 위치로 순간이동을 할 수 있는 특수한 기능을 가진 아이언 슈트를 개발하여 판매하고 있습니다. 이 아이언 슈트는 건전지로 작동되는데, 순간이동을 하면 건전지 사용량이 줄지 않지만, 앞으로 K 칸을 점프하면 K 만큼의 건전지 사용량이 듭니다. 그러므로 아이언 슈트를 착용하고 이동할 때는 순간 이동을 하는 것이 더 효율적입니다. 아이언 슈트 구매자는 아이언 슈트를 착용하고 거리가 N 만큼 떨어져 있는 장소로 가려고 합니다. 단, 건전지 사용량을 줄이기 위해 점프로 이동하는 것은 최소로 하려고 합니다. 아이언 슈트 구매자가 이동하려는 거리 N이 주어졌을 때, 사용해야 하는 건전지 사용량의 최솟값을 return하는 solution 함수를 만들어 주세요.\n",
    "\n",
    "# 예를 들어 거리가 5만큼 떨어져 있는 장소로 가려고 합니다.\n",
    "# 아이언 슈트를 입고 거리가 5만큼 떨어져 있는 장소로 갈 수 있는 경우의 수는 여러 가지입니다.\n",
    "\n",
    "# 처음 위치 0 에서 5 칸을 앞으로 점프하면 바로 도착하지만, 건전지 사용량이 5 만큼 듭니다.\n",
    "# 처음 위치 0 에서 2 칸을 앞으로 점프한 다음 순간이동 하면 (현재까지 온 거리 : 2) x 2에 해당하는 위치로 이동할 수 있으므로 위치 4로 이동합니다. 이때 1 칸을 앞으로 점프하면 도착하므로 건전지 사용량이 3 만큼 듭니다.\n",
    "# 처음 위치 0 에서 1 칸을 앞으로 점프한 다음 순간이동 하면 (현재까지 온 거리 : 1) x 2에 해당하는 위치로 이동할 수 있으므로 위치 2로 이동됩니다. 이때 다시 순간이동 하면 (현재까지 온 거리 : 2) x 2 만큼 이동할 수 있으므로 위치 4로 이동합니다. 이때 1 칸을 앞으로 점프하면 도착하므로 건전지 사용량이 2 만큼 듭니다.\n",
    "# 위의 3가지 경우 거리가 5만큼 떨어져 있는 장소로 가기 위해서 3번째 경우가 건전지 사용량이 가장 적으므로 답은 2가 됩니다.\n",
    "\n",
    "# 제한 사항\n",
    "# 숫자 N: 1 이상 10억 이하의 자연수\n",
    "# 숫자 K: 1 이상의 자연수"
   ]
  },
  {
   "cell_type": "code",
   "execution_count": 24,
   "metadata": {},
   "outputs": [
    {
     "data": {
      "text/plain": [
       "12"
      ]
     },
     "execution_count": 24,
     "metadata": {},
     "output_type": "execute_result"
    }
   ],
   "source": [
    "def solution(N):\n",
    "    b = 0\n",
    "    while N > 0:\n",
    "        # N이 홀수인 경우, 점프를 사용해야 하므로 건전지 사용량을 1 증가시킵니다.\n",
    "        if N % 2 == 1:\n",
    "            b += 1\n",
    "            N -= 1\n",
    "        # N이 짝수인 경우, 순간이동을 사용합니다.\n",
    "        N //= 2\n",
    "    return b\n",
    "\n",
    "solution(4839483)"
   ]
  },
  {
   "cell_type": "code",
   "execution_count": null,
   "metadata": {},
   "outputs": [],
   "source": [
    "# # 24/4/3\n",
    "# 문제 설명\n",
    "# 짝지어 제거하기는, 알파벳 소문자로 이루어진 문자열을 가지고 시작합니다. 먼저 문자열에서 같은 알파벳이 2개 붙어 있는 짝을 찾습니다. 그다음, 그 둘을 제거한 뒤, 앞뒤로 문자열을 이어 붙입니다. 이 과정을 반복해서 문자열을 모두 제거한다면 짝지어 제거하기가 종료됩니다. 문자열 S가 주어졌을 때, 짝지어 제거하기를 성공적으로 수행할 수 있는지 반환하는 함수를 완성해 주세요. 성공적으로 수행할 수 있으면 1을, 아닐 경우 0을 리턴해주면 됩니다.\n",
    "\n",
    "# 예를 들어, 문자열 S = baabaa 라면\n",
    "\n",
    "# b aa baa → bb aa → aa →\n",
    "\n",
    "# 의 순서로 문자열을 모두 제거할 수 있으므로 1을 반환합니다."
   ]
  },
  {
   "cell_type": "code",
   "execution_count": 33,
   "metadata": {},
   "outputs": [
    {
     "data": {
      "text/plain": [
       "0"
      ]
     },
     "execution_count": 33,
     "metadata": {},
     "output_type": "execute_result"
    }
   ],
   "source": [
    "def solution(s):\n",
    "    stack = []  \n",
    "    for char in s: \n",
    "        if stack and stack[-1] == char: \n",
    "            stack.pop()  \n",
    "        else:\n",
    "            stack.append(char)  \n",
    "    return 1 if not stack else 0\n",
    "solution('abbabbcdcd')"
   ]
  },
  {
   "cell_type": "code",
   "execution_count": null,
   "metadata": {},
   "outputs": [],
   "source": [
    "# # 24/4/4\n",
    "# 문제 설명\n",
    "# 피보나치 수는 F(0) = 0, F(1) = 1일 때, 1 이상의 n에 대하여 F(n) = F(n-1) + F(n-2) 가 적용되는 수 입니다.\n",
    "\n",
    "# 예를들어\n",
    "\n",
    "# F(2) = F(0) + F(1) = 0 + 1 = 1\n",
    "# F(3) = F(1) + F(2) = 1 + 1 = 2\n",
    "# F(4) = F(2) + F(3) = 1 + 2 = 3\n",
    "# F(5) = F(3) + F(4) = 2 + 3 = 5\n",
    "# 와 같이 이어집니다.\n",
    "\n",
    "# 2 이상의 n이 입력되었을 때, n번째 피보나치 수를 1234567으로 나눈 나머지를 리턴하는 함수, solution을 완성해 주세요."
   ]
  },
  {
   "cell_type": "code",
   "execution_count": 5,
   "metadata": {},
   "outputs": [
    {
     "data": {
      "text/plain": [
       "55"
      ]
     },
     "execution_count": 5,
     "metadata": {},
     "output_type": "execute_result"
    }
   ],
   "source": [
    "def solution(n):\n",
    "    a = [0,1]  \n",
    "    for i in range(2,n+1): \n",
    "        a.append((a[i-1]+a[i-2])%1234567)\n",
    "    return a[n]\n",
    "solution(10)"
   ]
  },
  {
   "cell_type": "code",
   "execution_count": null,
   "metadata": {},
   "outputs": [],
   "source": [
    "# # # 24/4/4\n",
    "# 문제 설명\n",
    "# 무인도에 갇힌 사람들을 구명보트를 이용하여 구출하려고 합니다. 구명보트는 작아서 한 번에 최대 2명씩 밖에 탈 수 없고, 무게 제한도 있습니다.\n",
    "\n",
    "# 예를 들어, 사람들의 몸무게가 [70kg, 50kg, 80kg, 50kg]이고 구명보트의 무게 제한이 100kg이라면 2번째 사람과 4번째 사람은 같이 탈 수 있지만 1번째 사람과 3번째 사람의 무게의 합은 150kg이므로 구명보트의 무게 제한을 초과하여 같이 탈 수 없습니다.\n",
    "\n",
    "# 구명보트를 최대한 적게 사용하여 모든 사람을 구출하려고 합니다.\n",
    "\n",
    "# 사람들의 몸무게를 담은 배열 people과 구명보트의 무게 제한 limit가 매개변수로 주어질 때, 모든 사람을 구출하기 위해 필요한 구명보트 개수의 최솟값을 return 하도록 solution 함수를 작성해주세요."
   ]
  },
  {
   "cell_type": "code",
   "execution_count": 7,
   "metadata": {},
   "outputs": [
    {
     "data": {
      "text/plain": [
       "3"
      ]
     },
     "execution_count": 7,
     "metadata": {},
     "output_type": "execute_result"
    }
   ],
   "source": [
    "def solution(people, limit):\n",
    "    people.sort()\n",
    "    first, last = 0, len(people)-1\n",
    "    answer = 0\n",
    "    while first <= last:\n",
    "        if people[first] + people[last] <= limit:\n",
    "            first += 1\n",
    "        last -= 1 \n",
    "        answer += 1 \n",
    "    return answer\n",
    "\n",
    "solution([70,40,50,60],100)"
   ]
  },
  {
   "cell_type": "code",
   "execution_count": null,
   "metadata": {},
   "outputs": [],
   "source": [
    "# 24/4/4\n",
    "# 1부터 n까지 번호가 붙어있는 n명의 사람이 영어 끝말잇기를 하고 있습니다. 영어 끝말잇기는 다음과 같은 규칙으로 진행됩니다.\n",
    "\n",
    "# 1번부터 번호 순서대로 한 사람씩 차례대로 단어를 말합니다.\n",
    "# 마지막 사람이 단어를 말한 다음에는 다시 1번부터 시작합니다.\n",
    "# 앞사람이 말한 단어의 마지막 문자로 시작하는 단어를 말해야 합니다.\n",
    "# 이전에 등장했던 단어는 사용할 수 없습니다.\n",
    "# 한 글자인 단어는 인정되지 않습니다.\n",
    "# 다음은 3명이 끝말잇기를 하는 상황을 나타냅니다.\n",
    "\n",
    "# tank → kick → know → wheel → land → dream → mother → robot → tank\n",
    "\n",
    "# 위 끝말잇기는 다음과 같이 진행됩니다.\n",
    "\n",
    "# 1번 사람이 자신의 첫 번째 차례에 tank를 말합니다.\n",
    "# 2번 사람이 자신의 첫 번째 차례에 kick을 말합니다.\n",
    "# 3번 사람이 자신의 첫 번째 차례에 know를 말합니다.\n",
    "# 1번 사람이 자신의 두 번째 차례에 wheel을 말합니다.\n",
    "# (계속 진행)\n",
    "# 끝말잇기를 계속 진행해 나가다 보면, 3번 사람이 자신의 세 번째 차례에 말한 tank 라는 단어는 이전에 등장했던 단어이므로 탈락하게 됩니다.\n",
    "\n",
    "# 사람의 수 n과 사람들이 순서대로 말한 단어 words 가 매개변수로 주어질 때, 가장 먼저 탈락하는 사람의 번호와 그 사람이 자신의 몇 번째 차례에 탈락하는지를 구해서 return 하도록 solution 함수를 완성해주세요."
   ]
  },
  {
   "cell_type": "code",
   "execution_count": 9,
   "metadata": {},
   "outputs": [
    {
     "data": {
      "text/plain": [
       "[3, 3]"
      ]
     },
     "execution_count": 9,
     "metadata": {},
     "output_type": "execute_result"
    }
   ],
   "source": [
    "def solution(n, words):\n",
    "    used_words = set()  # 사용된 단어들을 저장할 집합\n",
    "    last_char = words[0][0]  # 첫 단어의 시작 문자로 초기화\n",
    "    \n",
    "    for i, word in enumerate(words):\n",
    "        # 단어가 이미 사용되었거나, 마지막 문자와 일치하지 않으면 탈락\n",
    "        if word in used_words or not word.startswith(last_char):\n",
    "            return [(i % n) + 1, (i // n) + 1]\n",
    "        \n",
    "        used_words.add(word)  # 단어를 사용된 단어 집합에 추가\n",
    "        last_char = word[-1]  # 마지막 문자 업데이트\n",
    "    \n",
    "    return [0, 0]  # 모든 단어가 규칙에 맞게 사용되었으면 탈락자 없음\n",
    "\n",
    "# 예시\n",
    "solution(3, [\"tank\", \"kick\", \"know\", \"wheel\", \"land\", \"dream\", \"mother\", \"robot\", \"tank\"]) # [3, 3]\n"
   ]
  },
  {
   "cell_type": "code",
   "execution_count": null,
   "metadata": {},
   "outputs": [],
   "source": [
    "# 호텔을 운영 중인 코니는 최소한의 객실만을 사용하여 예약 손님들을 받으려고 합니다. \n",
    "# 한 번 사용한 객실은 퇴실 시간을 기준으로 10분간 청소를 하고 다음 손님들이 사용할 수 있습니다.\n",
    "# 예약 시각이 문자열 형태로 담긴 2차원 배열 book_time이 매개변수로 주어질 때, 코니에게 필요한 최소 객실의 수를 return 하는 solution 함수를 완성해주세요."
   ]
  },
  {
   "cell_type": "code",
   "execution_count": 12,
   "metadata": {},
   "outputs": [
    {
     "name": "stdout",
     "output_type": "stream",
     "text": [
      "(930, 'end')\n"
     ]
    },
    {
     "data": {
      "text/plain": [
       "3"
      ]
     },
     "execution_count": 12,
     "metadata": {},
     "output_type": "execute_result"
    }
   ],
   "source": [
    "book_time = [[\"15:00\", \"17:00\"], [\"16:40\", \"18:20\"], [\"14:20\", \"15:20\"], [\"14:10\", \"19:20\"], [\"18:20\", \"21:20\"]]\n",
    "book_time = sorted(book_time)\n",
    "a = book_time[0][1] \n",
    "a \n",
    "def solution(book_time):\n",
    "    events = []\n",
    "    \n",
    "    # 모든 예약에 대해 시작 시간과 퇴실 시간(+10분)을 이벤트로 변환\n",
    "    for start, end in book_time:\n",
    "        # 문자열 시간을 분으로 변환\n",
    "        start_hour, start_minute = map(int, start.split(\":\"))\n",
    "        end_hour, end_minute = map(int, end.split(\":\"))\n",
    "        start_time = start_hour * 60 + start_minute\n",
    "        end_time = end_hour * 60 + end_minute + 10  # 청소 시간 추가\n",
    "        \n",
    "        events.append((start_time, 'start'))\n",
    "        events.append((end_time, 'end'))\n",
    "    \n",
    "    # 이벤트 시간 순으로 정렬\n",
    "    events.sort()\n",
    "    max_rooms = 0\n",
    "    current_rooms = 0\n",
    "    \n",
    "    # 이벤트 처리\n",
    "    for _, event in events:\n",
    "        if event == 'start':\n",
    "            current_rooms += 1\n",
    "            max_rooms = max(max_rooms, current_rooms)\n",
    "        else:  # event == 'end'\n",
    "            current_rooms -= 1\n",
    "    \n",
    "    return max_rooms\n",
    "\n",
    "solution(book_time)"
   ]
  },
  {
   "cell_type": "code",
   "execution_count": null,
   "metadata": {},
   "outputs": [],
   "source": [
    "# ROR 게임은 두 팀으로 나누어서 진행하며, 상대 팀 진영을 먼저 파괴하면 이기는 게임입니다. 따라서, 각 팀은 상대 팀 진영에 최대한 빨리 도착하는 것이 유리합니다.\n",
    "\n",
    "# 지금부터 당신은 한 팀의 팀원이 되어 게임을 진행하려고 합니다. 다음은 5 x 5 크기의 맵에, 당신의 캐릭터가 (행: 1, 열: 1) 위치에 있고, 상대 팀 진영은 (행: 5, 열: 5) 위치에 있는 경우의 예시입니다.\n",
    "\n",
    "\n",
    "\n",
    "# 위 그림에서 검은색 부분은 벽으로 막혀있어 갈 수 없는 길이며, 흰색 부분은 갈 수 있는 길입니다. 캐릭터가 움직일 때는 동, 서, 남, 북 방향으로 한 칸씩 이동하며, 게임 맵을 벗어난 길은 갈 수 없습니다.\n",
    "# 아래 예시는 캐릭터가 상대 팀 진영으로 가는 두 가지 방법을 나타내고 있습니다.\n",
    "\n",
    "# 첫 번째 방법은 11개의 칸을 지나서 상대 팀 진영에 도착했습니다.\n",
    "\n",
    "# 두 번째 방법은 15개의 칸을 지나서 상대팀 진영에 도착했습니다.\n",
    "\n",
    "# 위 예시에서는 첫 번째 방법보다 더 빠르게 상대팀 진영에 도착하는 방법은 없으므로, 이 방법이 상대 팀 진영으로 가는 가장 빠른 방법입니다.\n",
    "\n",
    "# 만약, 상대 팀이 자신의 팀 진영 주위에 벽을 세워두었다면 상대 팀 진영에 도착하지 못할 수도 있습니다. 예를 들어, 다음과 같은 경우에 당신의 캐릭터는 상대 팀 진영에 도착할 수 없습니다.\n",
    "\n",
    "\n",
    "# 게임 맵의 상태 maps가 매개변수로 주어질 때, 캐릭터가 상대 팀 진영에 도착하기 위해서 지나가야 하는 칸의 개수의 최솟값을 return 하도록 solution 함수를 완성해주세요. 단, 상대 팀 진영에 도착할 수 없을 때는 -1을 return 해주세요."
   ]
  },
  {
   "cell_type": "code",
   "execution_count": 32,
   "metadata": {},
   "outputs": [
    {
     "name": "stdout",
     "output_type": "stream",
     "text": [
      "5 5\n"
     ]
    },
    {
     "data": {
      "text/plain": [
       "-1"
      ]
     },
     "execution_count": 32,
     "metadata": {},
     "output_type": "execute_result"
    }
   ],
   "source": [
    "def solution(maps):\n",
    "    answer = 0\n",
    "    if maps[-2][-1] == 0 and maps[-1][-2] == 0:\n",
    "        return -1 \n",
    "    cur_position = [0,0]\n",
    "    passed_position = []\n",
    "    while cur_position[0] == len(maps)-1 and cur_position[1] == len(maps[0]-1):\n",
    "        if cur_position[0]+1 == maps[cur_position[0]][cur_position[1]]:\n",
    "            cur_position[0]+= 1\n",
    "            passed_position[0].append(cur_position[0])\n",
    "            passed_position[1].append(cur_position[1])\n",
    "            answer += 1\n",
    "\n",
    "    return answer\n",
    "maps = [[1,0,1,1,1],[1,0,1,0,1],[1,0,1,1,1],[1,1,1,0,0],[0,0,0,0,1]]\n",
    "solution(maps)"
   ]
  }
 ],
 "metadata": {
  "kernelspec": {
   "display_name": "ml-dev",
   "language": "python",
   "name": "python3"
  },
  "language_info": {
   "codemirror_mode": {
    "name": "ipython",
    "version": 3
   },
   "file_extension": ".py",
   "mimetype": "text/x-python",
   "name": "python",
   "nbconvert_exporter": "python",
   "pygments_lexer": "ipython3",
   "version": "3.10.13"
  }
 },
 "nbformat": 4,
 "nbformat_minor": 2
}
